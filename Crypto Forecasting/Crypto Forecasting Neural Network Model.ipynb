{
 "cells": [
  {
   "cell_type": "markdown",
   "metadata": {},
   "source": [
    "## Loading Financial Data"
   ]
  },
  {
   "cell_type": "code",
   "execution_count": 255,
   "metadata": {},
   "outputs": [],
   "source": [
    "# Libraries\n",
    "import numpy as np\n",
    "import matplotlib.pyplot as plt\n",
    "import pandas as pd\n",
    "import pandas_datareader as web\n",
    "import datetime as dt\n",
    "from datetime import timedelta\n",
    "\n",
    "import tensorflow as tf\n",
    "\n",
    "from sklearn.preprocessing import MinMaxScaler                # Scale the data between 0 and 1\n",
    "from tensorflow.keras.layers import Dense\n",
    "from tensorflow.keras.layers import Dropout\n",
    "from tensorflow.keras.layers import LSTM\n",
    "from tensorflow.keras.models import Sequential"
   ]
  },
  {
   "cell_type": "code",
   "execution_count": 246,
   "metadata": {},
   "outputs": [],
   "source": [
    "crypto_currency = 'BTC'\n",
    "against_currency = 'USD'"
   ]
  },
  {
   "cell_type": "code",
   "execution_count": 247,
   "metadata": {},
   "outputs": [],
   "source": [
    "start = dt.datetime(2015,1,1)\n",
    "end = dt.datetime.now()"
   ]
  },
  {
   "cell_type": "code",
   "execution_count": 109,
   "metadata": {},
   "outputs": [],
   "source": [
    "data = web.DataReader(f'{crypto_currency}-{against_currency}', 'yahoo', start, end)"
   ]
  },
  {
   "cell_type": "code",
   "execution_count": 234,
   "metadata": {},
   "outputs": [
    {
     "data": {
      "text/html": [
       "<div>\n",
       "<style scoped>\n",
       "    .dataframe tbody tr th:only-of-type {\n",
       "        vertical-align: middle;\n",
       "    }\n",
       "\n",
       "    .dataframe tbody tr th {\n",
       "        vertical-align: top;\n",
       "    }\n",
       "\n",
       "    .dataframe thead th {\n",
       "        text-align: right;\n",
       "    }\n",
       "</style>\n",
       "<table border=\"1\" class=\"dataframe\">\n",
       "  <thead>\n",
       "    <tr style=\"text-align: right;\">\n",
       "      <th></th>\n",
       "      <th>High</th>\n",
       "      <th>Low</th>\n",
       "      <th>Open</th>\n",
       "      <th>Close</th>\n",
       "      <th>Volume</th>\n",
       "      <th>Adj Close</th>\n",
       "    </tr>\n",
       "    <tr>\n",
       "      <th>Date</th>\n",
       "      <th></th>\n",
       "      <th></th>\n",
       "      <th></th>\n",
       "      <th></th>\n",
       "      <th></th>\n",
       "      <th></th>\n",
       "    </tr>\n",
       "  </thead>\n",
       "  <tbody>\n",
       "    <tr>\n",
       "      <th>2015-01-01</th>\n",
       "      <td>320.434998</td>\n",
       "      <td>314.002991</td>\n",
       "      <td>320.434998</td>\n",
       "      <td>314.248993</td>\n",
       "      <td>8036550</td>\n",
       "      <td>314.248993</td>\n",
       "    </tr>\n",
       "    <tr>\n",
       "      <th>2015-01-02</th>\n",
       "      <td>315.838989</td>\n",
       "      <td>313.565002</td>\n",
       "      <td>314.079010</td>\n",
       "      <td>315.032013</td>\n",
       "      <td>7860650</td>\n",
       "      <td>315.032013</td>\n",
       "    </tr>\n",
       "    <tr>\n",
       "      <th>2015-01-03</th>\n",
       "      <td>315.149994</td>\n",
       "      <td>281.082001</td>\n",
       "      <td>314.846008</td>\n",
       "      <td>281.082001</td>\n",
       "      <td>33054400</td>\n",
       "      <td>281.082001</td>\n",
       "    </tr>\n",
       "    <tr>\n",
       "      <th>2015-01-04</th>\n",
       "      <td>287.230011</td>\n",
       "      <td>257.612000</td>\n",
       "      <td>281.145996</td>\n",
       "      <td>264.195007</td>\n",
       "      <td>55629100</td>\n",
       "      <td>264.195007</td>\n",
       "    </tr>\n",
       "    <tr>\n",
       "      <th>2015-01-05</th>\n",
       "      <td>278.341003</td>\n",
       "      <td>265.084015</td>\n",
       "      <td>265.084015</td>\n",
       "      <td>274.473999</td>\n",
       "      <td>43962800</td>\n",
       "      <td>274.473999</td>\n",
       "    </tr>\n",
       "  </tbody>\n",
       "</table>\n",
       "</div>"
      ],
      "text/plain": [
       "                  High         Low        Open       Close    Volume  \\\n",
       "Date                                                                   \n",
       "2015-01-01  320.434998  314.002991  320.434998  314.248993   8036550   \n",
       "2015-01-02  315.838989  313.565002  314.079010  315.032013   7860650   \n",
       "2015-01-03  315.149994  281.082001  314.846008  281.082001  33054400   \n",
       "2015-01-04  287.230011  257.612000  281.145996  264.195007  55629100   \n",
       "2015-01-05  278.341003  265.084015  265.084015  274.473999  43962800   \n",
       "\n",
       "             Adj Close  \n",
       "Date                    \n",
       "2015-01-01  314.248993  \n",
       "2015-01-02  315.032013  \n",
       "2015-01-03  281.082001  \n",
       "2015-01-04  264.195007  \n",
       "2015-01-05  274.473999  "
      ]
     },
     "execution_count": 234,
     "metadata": {},
     "output_type": "execute_result"
    }
   ],
   "source": [
    "data.head()"
   ]
  },
  {
   "cell_type": "markdown",
   "metadata": {},
   "source": [
    "## Data Preparation"
   ]
  },
  {
   "cell_type": "code",
   "execution_count": 111,
   "metadata": {},
   "outputs": [],
   "source": [
    "scaler = MinMaxScaler(feature_range = (0, 1))\n",
    "scaled_data = scaler.fit_transform(data['Close'].values.reshape(-1,1))"
   ]
  },
  {
   "cell_type": "code",
   "execution_count": 112,
   "metadata": {},
   "outputs": [],
   "source": [
    "# Number of days where the prediction is based on\n",
    "prediction_days = 60\n",
    "#future_day = 7"
   ]
  },
  {
   "cell_type": "code",
   "execution_count": 113,
   "metadata": {},
   "outputs": [],
   "source": [
    "# Train Data\n",
    "x_train, y_train = [], []\n",
    "\n",
    "for x in range(prediction_days, len(scaled_data)): # - future_day):\n",
    "    x_train.append(scaled_data[x - prediction_days: x, 0])\n",
    "    y_train.append(scaled_data[x, 0])  # + future_days"
   ]
  },
  {
   "cell_type": "code",
   "execution_count": 114,
   "metadata": {},
   "outputs": [],
   "source": [
    "x_train, y_train = np.array(x_train), np.array(y_train)\n",
    "x_train = np.reshape(x_train, (x_train.shape[0], x_train.shape[1], 1))"
   ]
  },
  {
   "cell_type": "markdown",
   "metadata": {},
   "source": [
    "## Model Layers"
   ]
  },
  {
   "cell_type": "code",
   "execution_count": 115,
   "metadata": {},
   "outputs": [
    {
     "name": "stdout",
     "output_type": "stream",
     "text": [
      "Epoch 1/25\n",
      "82/82 [==============================] - 9s 62ms/step - loss: 0.0069\n",
      "Epoch 2/25\n",
      "82/82 [==============================] - 5s 63ms/step - loss: 0.0032\n",
      "Epoch 3/25\n",
      "82/82 [==============================] - 5s 63ms/step - loss: 0.0025\n",
      "Epoch 4/25\n",
      "82/82 [==============================] - 5s 62ms/step - loss: 0.0022\n",
      "Epoch 5/25\n",
      "82/82 [==============================] - 5s 63ms/step - loss: 0.0021\n",
      "Epoch 6/25\n",
      "82/82 [==============================] - 5s 63ms/step - loss: 0.0018\n",
      "Epoch 7/25\n",
      "82/82 [==============================] - 5s 62ms/step - loss: 0.0017\n",
      "Epoch 8/25\n",
      "82/82 [==============================] - 5s 63ms/step - loss: 0.0017\n",
      "Epoch 9/25\n",
      "82/82 [==============================] - 5s 63ms/step - loss: 0.0017\n",
      "Epoch 10/25\n",
      "82/82 [==============================] - 5s 63ms/step - loss: 0.0017\n",
      "Epoch 11/25\n",
      "82/82 [==============================] - 5s 63ms/step - loss: 0.0017\n",
      "Epoch 12/25\n",
      "82/82 [==============================] - 5s 62ms/step - loss: 0.0015\n",
      "Epoch 13/25\n",
      "82/82 [==============================] - 5s 63ms/step - loss: 0.0015\n",
      "Epoch 14/25\n",
      "82/82 [==============================] - 5s 64ms/step - loss: 0.0014\n",
      "Epoch 15/25\n",
      "82/82 [==============================] - 5s 61ms/step - loss: 0.0015\n",
      "Epoch 16/25\n",
      "82/82 [==============================] - 5s 63ms/step - loss: 0.0014\n",
      "Epoch 17/25\n",
      "82/82 [==============================] - 5s 62ms/step - loss: 0.0013\n",
      "Epoch 18/25\n",
      "82/82 [==============================] - 5s 62ms/step - loss: 0.0013\n",
      "Epoch 19/25\n",
      "82/82 [==============================] - 5s 63ms/step - loss: 0.0013\n",
      "Epoch 20/25\n",
      "82/82 [==============================] - 5s 63ms/step - loss: 0.0013\n",
      "Epoch 21/25\n",
      "82/82 [==============================] - 5s 63ms/step - loss: 0.0012\n",
      "Epoch 22/25\n",
      "82/82 [==============================] - 5s 64ms/step - loss: 0.0011\n",
      "Epoch 23/25\n",
      "82/82 [==============================] - 5s 62ms/step - loss: 0.0013\n",
      "Epoch 24/25\n",
      "82/82 [==============================] - 5s 63ms/step - loss: 0.0011\n",
      "Epoch 25/25\n",
      "82/82 [==============================] - 5s 63ms/step - loss: 0.0013\n"
     ]
    },
    {
     "data": {
      "text/plain": [
       "<keras.callbacks.History at 0x1167e457b80>"
      ]
     },
     "execution_count": 115,
     "metadata": {},
     "output_type": "execute_result"
    }
   ],
   "source": [
    "model = Sequential()\n",
    "\n",
    "model.add(LSTM(units = 50, return_sequences = True, input_shape = (x_train.shape[1], 1)))\n",
    "model.add(Dropout(0.2)) \n",
    "\n",
    "model.add(LSTM(units = 50, return_sequences = True))\n",
    "model.add(Dropout(0.25))\n",
    "\n",
    "model.add(LSTM(units = 50))\n",
    "model.add(Dropout(0.25))\n",
    "\n",
    "model.add(Dense(units = 1))\n",
    "\n",
    "model.compile(optimizer = 'adam', loss = 'mean_squared_error')\n",
    "model.fit(x_train, y_train, epochs = 25, batch_size = 32)"
   ]
  },
  {
   "cell_type": "markdown",
   "metadata": {},
   "source": [
    "## Testing the Model"
   ]
  },
  {
   "cell_type": "code",
   "execution_count": 179,
   "metadata": {},
   "outputs": [],
   "source": [
    "test_start = dt.datetime(2017,1,1)   # Starts date of the data\n",
    "test_end = dt.datetime.now()\n",
    "\n",
    "test_data = web.DataReader(f'{crypto_currency}-{against_currency}', 'yahoo', test_start, test_end)\n",
    "actual_prices = test_data['Close'].values"
   ]
  },
  {
   "cell_type": "code",
   "execution_count": 180,
   "metadata": {},
   "outputs": [],
   "source": [
    "total_dataset = pd.concat((data['Close'], test_data['Close']), axis = 0)"
   ]
  },
  {
   "cell_type": "code",
   "execution_count": 181,
   "metadata": {},
   "outputs": [],
   "source": [
    "model_inputs = total_dataset[len(total_dataset) - len(test_data) - prediction_days:].values\n",
    "model_inputs = model_inputs.reshape(-1, 1)\n",
    "model_inputs = scaler.fit_transform(model_inputs)"
   ]
  },
  {
   "cell_type": "code",
   "execution_count": 185,
   "metadata": {},
   "outputs": [
    {
     "data": {
      "text/plain": [
       "2001"
      ]
     },
     "execution_count": 185,
     "metadata": {},
     "output_type": "execute_result"
    }
   ],
   "source": [
    "len(model_inputs)"
   ]
  },
  {
   "cell_type": "code",
   "execution_count": 187,
   "metadata": {},
   "outputs": [],
   "source": [
    "x_test = []\n",
    "\n",
    "for x in range(prediction_days, len(model_inputs)):\n",
    "    x_test.append(model_inputs[x-prediction_days:x, 0])\n",
    "x_test = np.array(x_test)\n",
    "x_test = np.reshape(x_test, (x_test.shape[0], x_test.shape[1], 1))"
   ]
  },
  {
   "cell_type": "code",
   "execution_count": 188,
   "metadata": {},
   "outputs": [],
   "source": [
    "# Predict Prices\n",
    "prediction_prices = model.predict(x_test)\n",
    "prediction_prices = scaler.inverse_transform(prediction_prices)"
   ]
  },
  {
   "cell_type": "code",
   "execution_count": 190,
   "metadata": {},
   "outputs": [
    {
     "data": {
      "image/png": "[encoded data removed]",
      "text/plain": [
       "<Figure size 432x288 with 1 Axes>"
      ]
     },
     "metadata": {
      "needs_background": "light"
     },
     "output_type": "display_data"
    }
   ],
   "source": [
    "# Plotting\n",
    "plt.plot(actual_prices, color = 'black', label = 'Actual Prices')\n",
    "plt.plot(prediction_prices, color = 'green', label = 'Predicted Prices')\n",
    "plt.title(f'{crypto_currency} Price Prediction')\n",
    "plt.xlabel('Time [days]')\n",
    "plt.ylabel('Price [USD]')\n",
    "plt.legend(loc = 'upper left')\n",
    "plt.show()"
   ]
  },
  {
   "cell_type": "code",
   "execution_count": 268,
   "metadata": {},
   "outputs": [
    {
     "name": "stdout",
     "output_type": "stream",
     "text": [
      "['2022-04-26', array([41103.453], dtype=float32)]\n"
     ]
    }
   ],
   "source": [
    "next_day_prediction = []\n",
    "\n",
    "next_day_prediction = [(end + timedelta(1)).strftime('%Y-%m-%d'), prediction_prices[-1]]\n",
    "\n",
    "print(next_day_prediction)"
   ]
  }
 ],
 "metadata": {
  "kernelspec": {
   "display_name": "Python 3",
   "language": "python",
   "name": "python3"
  },
  "language_info": {
   "codemirror_mode": {
    "name": "ipython",
    "version": 3
   },
   "file_extension": ".py",
   "mimetype": "text/x-python",
   "name": "python",
   "nbconvert_exporter": "python",
   "pygments_lexer": "ipython3",
   "version": "3.8.5"
  }
 },
 "nbformat": 4,
 "nbformat_minor": 4
}
