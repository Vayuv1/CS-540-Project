{
 "cells": [
  {
   "cell_type": "markdown",
   "metadata": {},
   "source": [
    "## Loading Financial Data"
   ]
  },
  {
   "cell_type": "code",
   "execution_count": 1,
   "metadata": {},
   "outputs": [],
   "source": [
    "# Libraries\n",
    "import numpy as np\n",
    "import matplotlib.pyplot as plt\n",
    "import pandas as pd\n",
    "import pandas_datareader as web\n",
    "import datetime as dt\n",
    "from datetime import timedelta\n",
    "\n",
    "import tensorflow as tf\n",
    "\n",
    "from sklearn.preprocessing import MinMaxScaler                # Scale the data between 0 and 1\n",
    "from tensorflow.keras.layers import Dense\n",
    "from tensorflow.keras.layers import Dropout\n",
    "from tensorflow.keras.layers import LSTM\n",
    "from tensorflow.keras.models import Sequential"
   ]
  },
  {
   "cell_type": "code",
   "execution_count": 2,
   "metadata": {},
   "outputs": [],
   "source": [
    "import pymysql\n",
    "import mysql.connector"
   ]
  },
  {
   "cell_type": "code",
   "execution_count": 90,
   "metadata": {},
   "outputs": [],
   "source": [
    "crypto_currency = 'LTC'\n",
    "against_currency = 'USD'"
   ]
  },
  {
   "cell_type": "code",
   "execution_count": 91,
   "metadata": {},
   "outputs": [],
   "source": [
    "start = dt.datetime(2015,1,1)\n",
    "end = dt.datetime.now()"
   ]
  },
  {
   "cell_type": "code",
   "execution_count": 92,
   "metadata": {},
   "outputs": [],
   "source": [
    "data = web.DataReader(f'{crypto_currency}-{against_currency}', 'yahoo', start, end)"
   ]
  },
  {
   "cell_type": "code",
   "execution_count": 93,
   "metadata": {},
   "outputs": [
    {
     "data": {
      "text/html": [
       "<div>\n",
       "<style scoped>\n",
       "    .dataframe tbody tr th:only-of-type {\n",
       "        vertical-align: middle;\n",
       "    }\n",
       "\n",
       "    .dataframe tbody tr th {\n",
       "        vertical-align: top;\n",
       "    }\n",
       "\n",
       "    .dataframe thead th {\n",
       "        text-align: right;\n",
       "    }\n",
       "</style>\n",
       "<table border=\"1\" class=\"dataframe\">\n",
       "  <thead>\n",
       "    <tr style=\"text-align: right;\">\n",
       "      <th></th>\n",
       "      <th>High</th>\n",
       "      <th>Low</th>\n",
       "      <th>Open</th>\n",
       "      <th>Close</th>\n",
       "      <th>Volume</th>\n",
       "      <th>Adj Close</th>\n",
       "    </tr>\n",
       "    <tr>\n",
       "      <th>Date</th>\n",
       "      <th></th>\n",
       "      <th></th>\n",
       "      <th></th>\n",
       "      <th></th>\n",
       "      <th></th>\n",
       "      <th></th>\n",
       "    </tr>\n",
       "  </thead>\n",
       "  <tbody>\n",
       "    <tr>\n",
       "      <th>2015-01-01</th>\n",
       "      <td>2.72421</td>\n",
       "      <td>2.68977</td>\n",
       "      <td>2.72421</td>\n",
       "      <td>2.69905</td>\n",
       "      <td>770693</td>\n",
       "      <td>2.69905</td>\n",
       "    </tr>\n",
       "    <tr>\n",
       "      <th>2015-01-02</th>\n",
       "      <td>2.69924</td>\n",
       "      <td>2.66385</td>\n",
       "      <td>2.69743</td>\n",
       "      <td>2.66736</td>\n",
       "      <td>855392</td>\n",
       "      <td>2.66736</td>\n",
       "    </tr>\n",
       "    <tr>\n",
       "      <th>2015-01-03</th>\n",
       "      <td>2.66646</td>\n",
       "      <td>2.13316</td>\n",
       "      <td>2.66646</td>\n",
       "      <td>2.13316</td>\n",
       "      <td>5193080</td>\n",
       "      <td>2.13316</td>\n",
       "    </tr>\n",
       "    <tr>\n",
       "      <th>2015-01-04</th>\n",
       "      <td>2.15446</td>\n",
       "      <td>1.91241</td>\n",
       "      <td>2.11022</td>\n",
       "      <td>1.95668</td>\n",
       "      <td>3888140</td>\n",
       "      <td>1.95668</td>\n",
       "    </tr>\n",
       "    <tr>\n",
       "      <th>2015-01-05</th>\n",
       "      <td>2.16048</td>\n",
       "      <td>1.95803</td>\n",
       "      <td>1.95803</td>\n",
       "      <td>2.08218</td>\n",
       "      <td>10649500</td>\n",
       "      <td>2.08218</td>\n",
       "    </tr>\n",
       "  </tbody>\n",
       "</table>\n",
       "</div>"
      ],
      "text/plain": [
       "               High      Low     Open    Close    Volume  Adj Close\n",
       "Date                                                               \n",
       "2015-01-01  2.72421  2.68977  2.72421  2.69905    770693    2.69905\n",
       "2015-01-02  2.69924  2.66385  2.69743  2.66736    855392    2.66736\n",
       "2015-01-03  2.66646  2.13316  2.66646  2.13316   5193080    2.13316\n",
       "2015-01-04  2.15446  1.91241  2.11022  1.95668   3888140    1.95668\n",
       "2015-01-05  2.16048  1.95803  1.95803  2.08218  10649500    2.08218"
      ]
     },
     "execution_count": 93,
     "metadata": {},
     "output_type": "execute_result"
    }
   ],
   "source": [
    "data.head()"
   ]
  },
  {
   "cell_type": "markdown",
   "metadata": {},
   "source": [
    "## Data Preparation"
   ]
  },
  {
   "cell_type": "code",
   "execution_count": 94,
   "metadata": {},
   "outputs": [],
   "source": [
    "scaler = MinMaxScaler(feature_range = (0, 1))\n",
    "scaled_data = scaler.fit_transform(data['Close'].values.reshape(-1,1))"
   ]
  },
  {
   "cell_type": "code",
   "execution_count": 95,
   "metadata": {},
   "outputs": [],
   "source": [
    "# Number of days where the prediction is based on\n",
    "prediction_days = 60\n",
    "#future_day = 7"
   ]
  },
  {
   "cell_type": "code",
   "execution_count": 96,
   "metadata": {},
   "outputs": [],
   "source": [
    "# Train Data\n",
    "x_train, y_train = [], []\n",
    "\n",
    "for x in range(prediction_days, len(scaled_data)): # - future_day):\n",
    "    x_train.append(scaled_data[x - prediction_days: x, 0])\n",
    "    y_train.append(scaled_data[x, 0])  # + future_days"
   ]
  },
  {
   "cell_type": "code",
   "execution_count": 97,
   "metadata": {},
   "outputs": [],
   "source": [
    "x_train, y_train = np.array(x_train), np.array(y_train)\n",
    "x_train = np.reshape(x_train, (x_train.shape[0], x_train.shape[1], 1))"
   ]
  },
  {
   "cell_type": "markdown",
   "metadata": {},
   "source": [
    "## Model Layers"
   ]
  },
  {
   "cell_type": "code",
   "execution_count": 98,
   "metadata": {},
   "outputs": [
    {
     "name": "stdout",
     "output_type": "stream",
     "text": [
      "Epoch 1/25\n",
      "82/82 [==============================] - 8s 54ms/step - loss: 0.0064\n",
      "Epoch 2/25\n",
      "82/82 [==============================] - 4s 53ms/step - loss: 0.0032\n",
      "Epoch 3/25\n",
      "82/82 [==============================] - 4s 54ms/step - loss: 0.0027\n",
      "Epoch 4/25\n",
      "82/82 [==============================] - 4s 52ms/step - loss: 0.0023\n",
      "Epoch 5/25\n",
      "82/82 [==============================] - 4s 53ms/step - loss: 0.0020\n",
      "Epoch 6/25\n",
      "82/82 [==============================] - 4s 53ms/step - loss: 0.0017\n",
      "Epoch 7/25\n",
      "82/82 [==============================] - 4s 53ms/step - loss: 0.0016\n",
      "Epoch 8/25\n",
      "82/82 [==============================] - 4s 54ms/step - loss: 0.0016\n",
      "Epoch 9/25\n",
      "82/82 [==============================] - 4s 53ms/step - loss: 0.0016\n",
      "Epoch 10/25\n",
      "82/82 [==============================] - 4s 54ms/step - loss: 0.0015\n",
      "Epoch 11/25\n",
      "82/82 [==============================] - 4s 52ms/step - loss: 0.0014\n",
      "Epoch 12/25\n",
      "82/82 [==============================] - 4s 52ms/step - loss: 0.0013\n",
      "Epoch 13/25\n",
      "82/82 [==============================] - 4s 52ms/step - loss: 0.0014\n",
      "Epoch 14/25\n",
      "82/82 [==============================] - 4s 54ms/step - loss: 0.0013\n",
      "Epoch 15/25\n",
      "82/82 [==============================] - 4s 53ms/step - loss: 0.0012\n",
      "Epoch 16/25\n",
      "82/82 [==============================] - 4s 53ms/step - loss: 0.0011\n",
      "Epoch 17/25\n",
      "82/82 [==============================] - 4s 54ms/step - loss: 0.0012\n",
      "Epoch 18/25\n",
      "82/82 [==============================] - 4s 53ms/step - loss: 0.0011\n",
      "Epoch 19/25\n",
      "82/82 [==============================] - 4s 53ms/step - loss: 0.0011\n",
      "Epoch 20/25\n",
      "82/82 [==============================] - 4s 53ms/step - loss: 0.0011\n",
      "Epoch 21/25\n",
      "82/82 [==============================] - 4s 54ms/step - loss: 0.0011\n",
      "Epoch 22/25\n",
      "82/82 [==============================] - 4s 53ms/step - loss: 0.0010\n",
      "Epoch 23/25\n",
      "82/82 [==============================] - 4s 53ms/step - loss: 0.0012\n",
      "Epoch 24/25\n",
      "82/82 [==============================] - 4s 54ms/step - loss: 9.9991e-04\n",
      "Epoch 25/25\n",
      "82/82 [==============================] - 4s 55ms/step - loss: 9.9299e-04\n"
     ]
    },
    {
     "data": {
      "text/plain": [
       "<keras.callbacks.History at 0x171abf9cd60>"
      ]
     },
     "execution_count": 98,
     "metadata": {},
     "output_type": "execute_result"
    }
   ],
   "source": [
    "model = Sequential()\n",
    "\n",
    "model.add(LSTM(units = 50, return_sequences = True, input_shape = (x_train.shape[1], 1)))\n",
    "model.add(Dropout(0.2)) \n",
    "\n",
    "model.add(LSTM(units = 50, return_sequences = True))\n",
    "model.add(Dropout(0.25))\n",
    "\n",
    "model.add(LSTM(units = 50))\n",
    "model.add(Dropout(0.25))\n",
    "\n",
    "model.add(Dense(units = 1))\n",
    "\n",
    "model.compile(optimizer = 'adam', loss = 'mean_squared_error')\n",
    "model.fit(x_train, y_train, epochs = 25, batch_size = 32)"
   ]
  },
  {
   "cell_type": "markdown",
   "metadata": {},
   "source": [
    "## Testing the Model"
   ]
  },
  {
   "cell_type": "code",
   "execution_count": 99,
   "metadata": {},
   "outputs": [],
   "source": [
    "test_start = dt.datetime(2017,1,1)   # Starts date of the data\n",
    "test_end = dt.datetime.now()\n",
    "\n",
    "test_data = web.DataReader(f'{crypto_currency}-{against_currency}', 'yahoo', test_start, test_end)\n",
    "actual_prices = test_data['Close'].values"
   ]
  },
  {
   "cell_type": "code",
   "execution_count": 100,
   "metadata": {},
   "outputs": [],
   "source": [
    "total_dataset = pd.concat((data['Close'], test_data['Close']), axis = 0)"
   ]
  },
  {
   "cell_type": "code",
   "execution_count": 101,
   "metadata": {},
   "outputs": [],
   "source": [
    "model_inputs = total_dataset[len(total_dataset) - len(test_data) - prediction_days:].values\n",
    "model_inputs = model_inputs.reshape(-1, 1)\n",
    "model_inputs = scaler.fit_transform(model_inputs)"
   ]
  },
  {
   "cell_type": "code",
   "execution_count": 102,
   "metadata": {},
   "outputs": [
    {
     "data": {
      "text/plain": [
       "2001"
      ]
     },
     "execution_count": 102,
     "metadata": {},
     "output_type": "execute_result"
    }
   ],
   "source": [
    "len(model_inputs)"
   ]
  },
  {
   "cell_type": "code",
   "execution_count": 103,
   "metadata": {},
   "outputs": [],
   "source": [
    "x_test = []\n",
    "\n",
    "for x in range(prediction_days, len(model_inputs)):\n",
    "    x_test.append(model_inputs[x-prediction_days:x, 0])\n",
    "x_test = np.array(x_test)\n",
    "x_test = np.reshape(x_test, (x_test.shape[0], x_test.shape[1], 1))"
   ]
  },
  {
   "cell_type": "code",
   "execution_count": 104,
   "metadata": {},
   "outputs": [],
   "source": [
    "# Predict Prices\n",
    "prediction_prices = model.predict(x_test)\n",
    "prediction_prices = scaler.inverse_transform(prediction_prices)"
   ]
  },
  {
   "cell_type": "code",
   "execution_count": 105,
   "metadata": {},
   "outputs": [
    {
     "data": {
      "image/png": "[encoded data removed]",
      "text/plain": [
       "<Figure size 432x288 with 1 Axes>"
      ]
     },
     "metadata": {
      "needs_background": "light"
     },
     "output_type": "display_data"
    }
   ],
   "source": [
    "# Plotting\n",
    "plt.plot(actual_prices, color = 'black', label = 'Actual Prices')\n",
    "plt.plot(prediction_prices, color = 'green', label = 'Predicted Prices')\n",
    "plt.title(f'{crypto_currency} Price Prediction')\n",
    "plt.xlabel('Time [days]')\n",
    "plt.ylabel('Price [USD]')\n",
    "plt.legend(loc = 'upper left')\n",
    "plt.show()"
   ]
  },
  {
   "cell_type": "code",
   "execution_count": 106,
   "metadata": {},
   "outputs": [
    {
     "name": "stdout",
     "output_type": "stream",
     "text": [
      "['2022-04-26', array([107.821205], dtype=float32)]\n"
     ]
    }
   ],
   "source": [
    "next_day_prediction = []\n",
    "\n",
    "next_day_prediction = [(end + timedelta(1)).strftime('%Y-%m-%d'), prediction_prices[-1]]\n",
    "\n",
    "print(next_day_prediction)"
   ]
  },
  {
   "cell_type": "code",
   "execution_count": 61,
   "metadata": {},
   "outputs": [
    {
     "data": {
      "text/plain": [
       "39887.938"
      ]
     },
     "execution_count": 61,
     "metadata": {},
     "output_type": "execute_result"
    }
   ],
   "source": [
    "next_day_prediction[1][0]"
   ]
  },
  {
   "cell_type": "code",
   "execution_count": 27,
   "metadata": {},
   "outputs": [
    {
     "data": {
      "text/plain": [
       "(1941, 1)"
      ]
     },
     "execution_count": 27,
     "metadata": {},
     "output_type": "execute_result"
    }
   ],
   "source": [
    "prediction_prices.shape"
   ]
  },
  {
   "cell_type": "code",
   "execution_count": 55,
   "metadata": {},
   "outputs": [],
   "source": [
    "def insert_data(date, type, close):\n",
    "    try:\n",
    "        connection = mysql.connector.connect(host = 'localhost',\n",
    "                                           database = 'cs540_project',\n",
    "                                           user = 'root',\n",
    "                                           password = '')\n",
    "        cursor = connection.cursor()\n",
    "        mySql_insert_query = \"\"\"INSERT INTO prediction (Date, Type, Close)\n",
    "                                VALUES (%s, %s, %s)\"\"\"\n",
    "        \n",
    "        prediction = (date, type, close)\n",
    "        print(prediction)\n",
    "        cursor.execute(mySql_insert_query, prediction)\n",
    "        connection.commit()\n",
    "        \n",
    "    except mysql.connector.Error as error:\n",
    "        print('Failed {}'.format(error))\n",
    "        \n",
    "    #finally:\n",
    "     #   if connection.is_connected():\n",
    "      #      cursor.close()\n",
    "       #     connection.close()"
   ]
  },
  {
   "cell_type": "code",
   "execution_count": 63,
   "metadata": {},
   "outputs": [
    {
     "name": "stdout",
     "output_type": "stream",
     "text": [
      "('2022-04-26', 'BTC', 39887.9375)\n"
     ]
    }
   ],
   "source": [
    "insert_data(next_day_prediction[0], 'BTC', float(next_day_prediction[1][0]))"
   ]
  },
  {
   "cell_type": "code",
   "execution_count": 82,
   "metadata": {},
   "outputs": [
    {
     "name": "stdout",
     "output_type": "stream",
     "text": [
      "('2022-04-26', 'ETH', 3090.508544921875)\n"
     ]
    }
   ],
   "source": [
    "insert_data(next_day_prediction[0], 'ETH', float(next_day_prediction[1][0]))"
   ]
  },
  {
   "cell_type": "code",
   "execution_count": 107,
   "metadata": {},
   "outputs": [
    {
     "name": "stdout",
     "output_type": "stream",
     "text": [
      "('2022-04-26', 'LTC', 107.82120513916016)\n"
     ]
    }
   ],
   "source": [
    "insert_data(next_day_prediction[0], 'LTC', float(next_day_prediction[1][0]))"
   ]
  }
 ],
 "metadata": {
  "kernelspec": {
   "display_name": "Python 3",
   "language": "python",
   "name": "python3"
  },
  "language_info": {
   "codemirror_mode": {
    "name": "ipython",
    "version": 3
   },
   "file_extension": ".py",
   "mimetype": "text/x-python",
   "name": "python",
   "nbconvert_exporter": "python",
   "pygments_lexer": "ipython3",
   "version": "3.8.5"
  }
 },
 "nbformat": 4,
 "nbformat_minor": 4
}
